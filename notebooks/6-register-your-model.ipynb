{
  "nbformat": 4,
  "nbformat_minor": 2,
  "metadata": {},
  "cells": [
    {
      "metadata": {},
      "source": [
        "%load_ext dotenv\n",
        "%dotenv"
      ],
      "cell_type": "code",
      "outputs": [],
      "execution_count": null
    },
    {
      "metadata": {},
      "source": [
        "## Check experiment runs and get the best run"
      ],
      "cell_type": "markdown"
    },
    {
      "metadata": {},
      "source": [
        "import os\n",
        "import mlflow\n",
        "from mlflow.tracking import MlflowClient\n",
        "from sklearn import datasets\n",
        "import numpy as np"
      ],
      "cell_type": "code",
      "outputs": [],
      "execution_count": null
    },
    {
      "metadata": {},
      "source": [
        "# Create an instance of the MflowClient, we will use it to query our tracking server\n",
        "client = MlflowClient()"
      ],
      "cell_type": "code",
      "outputs": [],
      "execution_count": null
    },
    {
      "metadata": {},
      "source": [
        "#Get the experiment\n",
        "experiment = mlflow.get_experiment(experiment_id=1699708867784634)"
      ],
      "cell_type": "code",
      "outputs": [],
      "execution_count": null
    },
    {
      "metadata": {},
      "source": [
        "# Get experiment runs\n",
        "runs = client.search_runs(experiment_ids = [experiment.experiment_id])"
      ],
      "cell_type": "code",
      "outputs": [],
      "execution_count": null
    },
    {
      "metadata": {},
      "source": [
        "#Choose a metric to get the best run\n",
        "metrics = [run.data.metrics[\"mse\"] for run in runs]\n",
        "best_rmse = min(metrics)\n",
        "\n",
        "best_run = [run for run in runs if run.data.metrics[\"mse\"] == best_rmse][0]\n",
        "best_run.info"
      ],
      "cell_type": "code",
      "outputs": [
        {
          "output_type": "execute_result",
          "data": {
            "text/plain": [
              "<RunInfo: artifact_uri='dbfs:/databricks/mlflow-tracking/1699708867784634/3f07facfcf404bc8be7dd615cd26760d/artifacts', end_time=1671142573521, experiment_id='1699708867784634', lifecycle_stage='active', run_id='3f07facfcf404bc8be7dd615cd26760d', run_name='silent-panda-182', run_uuid='3f07facfcf404bc8be7dd615cd26760d', start_time=1671142568899, status='FINISHED', user_id=''>"
            ]
          },
          "metadata": {},
          "execution_count": 6
        }
      ],
      "execution_count": null
    },
    {
      "metadata": {},
      "source": [
        "# Register the model from the best run\n",
        "model_name = \"my best model\"\n",
        "\n",
        "model_uri = f\"runs:/{best_run.info.run_id}/model\"\n",
        "model_version = mlflow.register_model(model_uri = model_uri, name = model_name)"
      ],
      "cell_type": "code",
      "outputs": [
        {
          "output_type": "stream",
          "name": "stderr",
          "text": [
            "Registered model 'my best model' already exists. Creating a new version of this model...\n",
            "2022/12/15 23:19:51 INFO mlflow.tracking._model_registry.client: Waiting up to 300 seconds for model version to finish creation.                     Model name: my best model, version 6\n",
            "Created version '6' of model 'my best model'.\n"
          ]
        }
      ],
      "execution_count": null
    },
    {
      "metadata": {},
      "source": [
        "## Load the model"
      ],
      "cell_type": "markdown"
    },
    {
      "metadata": {},
      "source": [
        "model_info = client.get_registered_model(name = model_name)"
      ],
      "cell_type": "code",
      "outputs": [],
      "execution_count": null
    },
    {
      "metadata": {},
      "source": [
        "model_info"
      ],
      "cell_type": "code",
      "outputs": [
        {
          "output_type": "execute_result",
          "data": {
            "text/plain": [
              "<RegisteredModel: creation_timestamp=1671142265785, description='', last_updated_timestamp=1671142791185, latest_versions=[<ModelVersion: creation_timestamp=1671142791185, current_stage='None', description='', last_updated_timestamp=1671142792170, name='my best model', run_id='3f07facfcf404bc8be7dd615cd26760d', run_link='', source='dbfs:/databricks/mlflow-tracking/1699708867784634/3f07facfcf404bc8be7dd615cd26760d/artifacts/model', status='READY', status_message='', tags={}, user_id='vitale@dataroots.io', version='6'>], name='my best model', tags={}>"
            ]
          },
          "metadata": {},
          "execution_count": 11
        }
      ],
      "execution_count": null
    },
    {
      "metadata": {},
      "source": [
        "model = mlflow.sklearn.load_model(model_uri)"
      ],
      "cell_type": "code",
      "outputs": [],
      "execution_count": null
    },
    {
      "metadata": {},
      "source": [
        "## Running inference"
      ],
      "cell_type": "markdown"
    },
    {
      "metadata": {},
      "source": [
        "diabetes = datasets.load_diabetes()\n",
        "data = diabetes.data\n",
        "preds = model.predict(data)"
      ],
      "cell_type": "code",
      "outputs": [],
      "execution_count": null
    },
    {
      "metadata": {},
      "source": [
        "## Adding metadata to our model"
      ],
      "cell_type": "markdown"
    },
    {
      "metadata": {},
      "source": [
        "client.set_model_version_tag(model_name, model_version.version, key = \"prediction_works\", value = \"true\")"
      ],
      "cell_type": "code",
      "outputs": [],
      "execution_count": null
    },
    {
      "metadata": {},
      "source": [
        "model_version_info = client.get_model_version(model_name, model_version.version)"
      ],
      "cell_type": "code",
      "outputs": [],
      "execution_count": null
    },
    {
      "metadata": {},
      "source": [
        "model_version_info.tags"
      ],
      "cell_type": "code",
      "outputs": [
        {
          "output_type": "execute_result",
          "data": {
            "text/plain": [
              "{'prediction_works': 'true'}"
            ]
          },
          "metadata": {},
          "execution_count": 18
        }
      ],
      "execution_count": null
    },
    {
      "metadata": {},
      "source": [
        "## Promoting our model to Staging"
      ],
      "cell_type": "markdown"
    },
    {
      "metadata": {},
      "source": [
        "We are happy with our model (for now), so let's promote it to Staging"
      ],
      "cell_type": "markdown"
    },
    {
      "metadata": {},
      "source": [
        "client.transition_model_version_stage(model_name, model_version.version, stage = \"Staging\")"
      ],
      "cell_type": "code",
      "outputs": [
        {
          "output_type": "execute_result",
          "data": {
            "text/plain": [
              "<ModelVersion: creation_timestamp=1671142791185, current_stage='Staging', description='', last_updated_timestamp=1671142968508, name='my best model', run_id='3f07facfcf404bc8be7dd615cd26760d', run_link='', source='dbfs:/databricks/mlflow-tracking/1699708867784634/3f07facfcf404bc8be7dd615cd26760d/artifacts/model', status='READY', status_message='', tags={}, user_id='3967460567028002', version='6'>"
            ]
          },
          "metadata": {},
          "execution_count": 19
        }
      ],
      "execution_count": null
    },
    {
      "metadata": {},
      "source": [
        "model_version_info = client.get_model_version(model_name, model_version.version)"
      ],
      "cell_type": "code",
      "outputs": [],
      "execution_count": null
    },
    {
      "metadata": {},
      "source": [
        "# check if it worked\n",
        "model_version_info.current_stage"
      ],
      "cell_type": "code",
      "outputs": [
        {
          "output_type": "execute_result",
          "data": {
            "text/plain": [
              "'Staging'"
            ]
          },
          "metadata": {},
          "execution_count": 24
        }
      ],
      "execution_count": null
    }
  ]
}