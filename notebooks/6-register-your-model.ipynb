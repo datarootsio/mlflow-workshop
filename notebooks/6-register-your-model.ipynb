{
  "nbformat": 4,
  "nbformat_minor": 2,
  "metadata": {},
  "cells": [
    {
      "metadata": {},
      "source": [
        "## Registering our Models\n",
        "### Getting our best runs"
      ],
      "cell_type": "markdown"
    },
    {
      "metadata": {},
      "source": [
        "import os\n",
        "import mlflow\n",
        "from mlflow.tracking import MlflowClient\n"
      ],
      "cell_type": "code",
      "outputs": [],
      "execution_count": null
    },
    {
      "metadata": {},
      "source": [
        "#Get experiment\n",
        "experiment = mlflow.get_experiment_by_name(\"exp name\")\n",
        "experiment"
      ],
      "cell_type": "code",
      "outputs": [],
      "execution_count": null
    },
    {
      "metadata": {},
      "source": [
        "# Get experiment runs\n",
        "client = MlflowClient()\n",
        "runs = client.search_runs(experiment_ids = [experiment.experiment_id])\n",
        "runs"
      ],
      "cell_type": "code",
      "outputs": [],
      "execution_count": null
    },
    {
      "metadata": {},
      "source": [
        "#Get the best metrics value and use it to find the best run\n",
        "\n",
        "metrics = [run.data.metrics[\"rmse\"] for run in runs]\n",
        "best_rmse = min(metrics)\n",
        "best_run = [run for run in runs if run.data.metrics[\"rmse\"] == best_rmse][0]\n",
        "best_run.info"
      ],
      "cell_type": "code",
      "outputs": [],
      "execution_count": null
    },
    {
      "metadata": {},
      "source": [
        "# Register the model from the best run and log it\n",
        "\n",
        "model_name = \"\"\n",
        "mlflow.set_experiment(experiment_name = \"\")\n",
        "model_uri = f\"runs:/{best_run.info.run_id}/model\"\n",
        "model_version = mlflow.register_model(model_uri = model_uri, name = model_name)\n",
        "model_version"
      ],
      "cell_type": "code",
      "outputs": [],
      "execution_count": null
    },
    {
      "metadata": {},
      "source": [
        "## Loading our model"
      ],
      "cell_type": "markdown"
    },
    {
      "metadata": {},
      "source": [
        "model = client.get_registered_model(name = \"\")\n",
        "model"
      ],
      "cell_type": "code",
      "outputs": [],
      "execution_count": null
    },
    {
      "metadata": {},
      "source": [
        "model_artifact = mlflow.sklearn.load_model(model_uri)\n",
        "model_artifact"
      ],
      "cell_type": "code",
      "outputs": [],
      "execution_count": null
    },
    {
      "metadata": {},
      "source": [
        "## Running inference"
      ],
      "cell_type": "markdown"
    },
    {
      "metadata": {},
      "source": [
        "from sklearn import datasets\n",
        "import numpy as np\n",
        "\n",
        "diabetes = datasets.load_diabetes()\n",
        "data = diabetes.data\n",
        "pred = model_artifact.predict(data)\n",
        "pred"
      ],
      "cell_type": "code",
      "outputs": [],
      "execution_count": null
    },
    {
      "metadata": {},
      "source": [
        "## Adding metadata to our model"
      ],
      "cell_type": "markdown"
    },
    {
      "metadata": {},
      "source": [
        "client.set_model_version_tag(model_name, model_version.version, key = \"prediction_works\", value = \"true\")"
      ],
      "cell_type": "code",
      "outputs": [],
      "execution_count": null
    },
    {
      "metadata": {},
      "source": [
        "model_version_info = client.get_model_version(model_name, model_version.version)\n",
        "model_version_info.tags"
      ],
      "cell_type": "code",
      "outputs": [],
      "execution_count": null
    },
    {
      "metadata": {},
      "source": [
        "## Promoting our model to Staging"
      ],
      "cell_type": "markdown"
    },
    {
      "metadata": {},
      "source": [
        "We are happy with our model (for now), so let's promote it to Staging"
      ],
      "cell_type": "markdown"
    },
    {
      "metadata": {},
      "source": [
        "client.transition_model_version_stage(model_name, model_version.version, stage = \"Staging\")"
      ],
      "cell_type": "code",
      "outputs": [],
      "execution_count": null
    },
    {
      "metadata": {},
      "source": [
        "model_version_info = client.get_model_version(model_name, model_version.version)\n",
        "model_version_info.current_stage"
      ],
      "cell_type": "code",
      "outputs": [],
      "execution_count": null
    }
  ]
}