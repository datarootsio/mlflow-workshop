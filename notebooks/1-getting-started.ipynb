{
  "nbformat": 4,
  "nbformat_minor": 2,
  "metadata": {},
  "cells": [
    {
      "metadata": {},
      "source": [
        "import os\n",
        "import mlflow\n",
        "from random import randint, random"
      ],
      "cell_type": "code",
      "outputs": [],
      "execution_count": null
    },
    {
      "metadata": {},
      "source": [
        "# Log a parameter (key-value pair)\n",
        "mlflow.log_param(\"param1\", randint(0, 100))\n",
        "\n",
        "# Log a metric; metrics can be updated throughout the run\n",
        "mlflow.log_metric(\"foo\", random())\n",
        "mlflow.log_metric(\"foo\", random() + 1)\n",
        "mlflow.log_metric(\"foo\", random() + 2)\n",
        "\n",
        "# Log an artifact a simple text file\n",
        "mlflow.log_artifact(\"artifacts/text_file.txt\")\n",
        "\n",
        "# Log an image\n",
        "mlflow.log_artifact(\"artifacts/kitten.jpg\")"
      ],
      "cell_type": "code",
      "outputs": [
        {
          "ename": "MlflowException",
          "evalue": "INVALID_PARAMETER_VALUE: Changing param values is not allowed. Param with key='param1' was already logged with value='24' for run ID='6e31107c5f774e1d9c8a8e0a77060dd1'. Attempted logging new value '77'.\n\nThe cause of this error is typically due to repeated calls\nto an individual run_id event logging.\n\nIncorrect Example:\n---------------------------------------\nwith mlflow.start_run():\n    mlflow.log_param(\"depth\", 3)\n    mlflow.log_param(\"depth\", 5)\n---------------------------------------\n\nWhich will throw an MlflowException for overwriting a\nlogged parameter.\n\nCorrect Example:\n---------------------------------------\nwith mlflow.start_run():\n    with mlflow.start_run(nested=True):\n        mlflow.log_param(\"depth\", 3)\n    with mlflow.start_run(nested=True):\n        mlflow.log_param(\"depth\", 5)\n---------------------------------------\n\nWhich will create a new nested run for each individual\nmodel and prevent parameter key collisions within the\ntracking store.'",
          "output_type": "error",
          "traceback": [
            "\u001b[0;31m---------------------------------------------------------------------------\u001b[0m",
            "\u001b[0;31mRestException\u001b[0m                             Traceback (most recent call last)",
            "File \u001b[0;32m~/Projects/mlflow-workshop/venv/lib/python3.9/site-packages/mlflow/tracking/_tracking_service/client.py:301\u001b[0m, in \u001b[0;36mTrackingServiceClient.log_param\u001b[0;34m(self, run_id, key, value)\u001b[0m\n\u001b[1;32m    300\u001b[0m \u001b[39mtry\u001b[39;00m:\n\u001b[0;32m--> 301\u001b[0m     \u001b[39mself\u001b[39;49m\u001b[39m.\u001b[39;49mstore\u001b[39m.\u001b[39;49mlog_param(run_id, param)\n\u001b[1;32m    302\u001b[0m \u001b[39mexcept\u001b[39;00m MlflowException \u001b[39mas\u001b[39;00m e:\n",
            "File \u001b[0;32m~/Projects/mlflow-workshop/venv/lib/python3.9/site-packages/mlflow/store/tracking/rest_store.py:229\u001b[0m, in \u001b[0;36mRestStore.log_param\u001b[0;34m(self, run_id, param)\u001b[0m\n\u001b[1;32m    226\u001b[0m req_body \u001b[39m=\u001b[39m message_to_json(\n\u001b[1;32m    227\u001b[0m     LogParam(run_uuid\u001b[39m=\u001b[39mrun_id, run_id\u001b[39m=\u001b[39mrun_id, key\u001b[39m=\u001b[39mparam\u001b[39m.\u001b[39mkey, value\u001b[39m=\u001b[39mparam\u001b[39m.\u001b[39mvalue)\n\u001b[1;32m    228\u001b[0m )\n\u001b[0;32m--> 229\u001b[0m \u001b[39mself\u001b[39;49m\u001b[39m.\u001b[39;49m_call_endpoint(LogParam, req_body)\n",
            "File \u001b[0;32m~/Projects/mlflow-workshop/venv/lib/python3.9/site-packages/mlflow/store/tracking/rest_store.py:57\u001b[0m, in \u001b[0;36mRestStore._call_endpoint\u001b[0;34m(self, api, json_body)\u001b[0m\n\u001b[1;32m     56\u001b[0m response_proto \u001b[39m=\u001b[39m api\u001b[39m.\u001b[39mResponse()\n\u001b[0;32m---> 57\u001b[0m \u001b[39mreturn\u001b[39;00m call_endpoint(\u001b[39mself\u001b[39;49m\u001b[39m.\u001b[39;49mget_host_creds(), endpoint, method, json_body, response_proto)\n",
            "File \u001b[0;32m~/Projects/mlflow-workshop/venv/lib/python3.9/site-packages/mlflow/utils/rest_utils.py:274\u001b[0m, in \u001b[0;36mcall_endpoint\u001b[0;34m(host_creds, endpoint, method, json_body, response_proto)\u001b[0m\n\u001b[1;32m    271\u001b[0m     response \u001b[39m=\u001b[39m http_request(\n\u001b[1;32m    272\u001b[0m         host_creds\u001b[39m=\u001b[39mhost_creds, endpoint\u001b[39m=\u001b[39mendpoint, method\u001b[39m=\u001b[39mmethod, json\u001b[39m=\u001b[39mjson_body\n\u001b[1;32m    273\u001b[0m     )\n\u001b[0;32m--> 274\u001b[0m response \u001b[39m=\u001b[39m verify_rest_response(response, endpoint)\n\u001b[1;32m    275\u001b[0m js_dict \u001b[39m=\u001b[39m json\u001b[39m.\u001b[39mloads(response\u001b[39m.\u001b[39mtext)\n",
            "File \u001b[0;32m~/Projects/mlflow-workshop/venv/lib/python3.9/site-packages/mlflow/utils/rest_utils.py:200\u001b[0m, in \u001b[0;36mverify_rest_response\u001b[0;34m(response, endpoint)\u001b[0m\n\u001b[1;32m    199\u001b[0m \u001b[39mif\u001b[39;00m _can_parse_as_json_object(response\u001b[39m.\u001b[39mtext):\n\u001b[0;32m--> 200\u001b[0m     \u001b[39mraise\u001b[39;00m RestException(json\u001b[39m.\u001b[39mloads(response\u001b[39m.\u001b[39mtext))\n\u001b[1;32m    201\u001b[0m \u001b[39melse\u001b[39;00m:\n",
            "\u001b[0;31mRestException\u001b[0m: INVALID_PARAMETER_VALUE: Changing param values is not allowed. Param with key='param1' was already logged with value='24' for run ID='6e31107c5f774e1d9c8a8e0a77060dd1'. Attempted logging new value '77'.",
            "\nDuring handling of the above exception, another exception occurred:\n",
            "\u001b[0;31mMlflowException\u001b[0m                           Traceback (most recent call last)",
            "Cell \u001b[0;32mIn [3], line 2\u001b[0m\n\u001b[1;32m      1\u001b[0m \u001b[38;5;66;03m# Log a parameter (key-value pair)\u001b[39;00m\n\u001b[0;32m----> 2\u001b[0m mlflow\u001b[38;5;241m.\u001b[39mlog_param(\u001b[38;5;124m\"\u001b[39m\u001b[38;5;124mparam1\u001b[39m\u001b[38;5;124m\"\u001b[39m, randint(\u001b[38;5;241m0\u001b[39m, \u001b[38;5;241m100\u001b[39m))\n\u001b[1;32m      4\u001b[0m \u001b[38;5;66;03m# Log a metric; metrics can be updated throughout the run\u001b[39;00m\n\u001b[1;32m      5\u001b[0m mlflow\u001b[38;5;241m.\u001b[39mlog_metric(\u001b[38;5;124m\"\u001b[39m\u001b[38;5;124mfoo\u001b[39m\u001b[38;5;124m\"\u001b[39m, random())\n",
            "File \u001b[0;32m~/Projects/mlflow-workshop/venv/lib/python3.9/site-packages/mlflow/tracking/fluent.py:543\u001b[0m, in \u001b[0;36mlog_param\u001b[0;34m(key, value)\u001b[0m\n\u001b[1;32m    519\u001b[0m \u001b[39m\"\"\"\u001b[39;00m\n\u001b[1;32m    520\u001b[0m \u001b[39mLog a parameter (e.g. model hyperparameter) under the current run. If no run is active,\u001b[39;00m\n\u001b[1;32m    521\u001b[0m \u001b[39mthis method will create a new active run.\u001b[39;00m\n\u001b[0;32m   (...)\u001b[0m\n\u001b[1;32m    540\u001b[0m \u001b[39m        assert value == 0.01\u001b[39;00m\n\u001b[1;32m    541\u001b[0m \u001b[39m\"\"\"\u001b[39;00m\n\u001b[1;32m    542\u001b[0m run_id \u001b[39m=\u001b[39m _get_or_start_run()\u001b[39m.\u001b[39minfo\u001b[39m.\u001b[39mrun_id\n\u001b[0;32m--> 543\u001b[0m \u001b[39mreturn\u001b[39;00m MlflowClient()\u001b[39m.\u001b[39;49mlog_param(run_id, key, value)\n",
            "File \u001b[0;32m~/Projects/mlflow-workshop/venv/lib/python3.9/site-packages/mlflow/tracking/client.py:858\u001b[0m, in \u001b[0;36mMlflowClient.log_param\u001b[0;34m(self, run_id, key, value)\u001b[0m\n\u001b[1;32m    805\u001b[0m \u001b[39mdef\u001b[39;00m \u001b[39mlog_param\u001b[39m(\u001b[39mself\u001b[39m, run_id: \u001b[39mstr\u001b[39m, key: \u001b[39mstr\u001b[39m, value: Any) \u001b[39m-\u001b[39m\u001b[39m>\u001b[39m Any:\n\u001b[1;32m    806\u001b[0m     \u001b[39m\"\"\"\u001b[39;00m\n\u001b[1;32m    807\u001b[0m \u001b[39m    Log a parameter (e.g. model hyperparameter) against the run ID.\u001b[39;00m\n\u001b[1;32m    808\u001b[0m \n\u001b[0;32m   (...)\u001b[0m\n\u001b[1;32m    856\u001b[0m \u001b[39m        status: FINISHED\u001b[39;00m\n\u001b[1;32m    857\u001b[0m \u001b[39m    \"\"\"\u001b[39;00m\n\u001b[0;32m--> 858\u001b[0m     \u001b[39mself\u001b[39;49m\u001b[39m.\u001b[39;49m_tracking_client\u001b[39m.\u001b[39;49mlog_param(run_id, key, value)\n\u001b[1;32m    859\u001b[0m     \u001b[39mreturn\u001b[39;00m value\n",
            "File \u001b[0;32m~/Projects/mlflow-workshop/venv/lib/python3.9/site-packages/mlflow/tracking/_tracking_service/client.py:305\u001b[0m, in \u001b[0;36mTrackingServiceClient.log_param\u001b[0;34m(self, run_id, key, value)\u001b[0m\n\u001b[1;32m    303\u001b[0m \u001b[39mif\u001b[39;00m e\u001b[39m.\u001b[39merror_code \u001b[39m==\u001b[39m ErrorCode\u001b[39m.\u001b[39mName(INVALID_PARAMETER_VALUE):\n\u001b[1;32m    304\u001b[0m     msg \u001b[39m=\u001b[39m \u001b[39mf\u001b[39m\u001b[39m\"\u001b[39m\u001b[39m{\u001b[39;00me\u001b[39m.\u001b[39mmessage\u001b[39m}\u001b[39;00m\u001b[39m{\u001b[39;00mPARAM_VALIDATION_MSG\u001b[39m}\u001b[39;00m\u001b[39m'\u001b[39m\u001b[39m\"\u001b[39m\n\u001b[0;32m--> 305\u001b[0m     \u001b[39mraise\u001b[39;00m MlflowException(msg, INVALID_PARAMETER_VALUE)\n\u001b[1;32m    306\u001b[0m \u001b[39melse\u001b[39;00m:\n\u001b[1;32m    307\u001b[0m     \u001b[39mraise\u001b[39;00m e\n",
            "\u001b[0;31mMlflowException\u001b[0m: INVALID_PARAMETER_VALUE: Changing param values is not allowed. Param with key='param1' was already logged with value='24' for run ID='6e31107c5f774e1d9c8a8e0a77060dd1'. Attempted logging new value '77'.\n\nThe cause of this error is typically due to repeated calls\nto an individual run_id event logging.\n\nIncorrect Example:\n---------------------------------------\nwith mlflow.start_run():\n    mlflow.log_param(\"depth\", 3)\n    mlflow.log_param(\"depth\", 5)\n---------------------------------------\n\nWhich will throw an MlflowException for overwriting a\nlogged parameter.\n\nCorrect Example:\n---------------------------------------\nwith mlflow.start_run():\n    with mlflow.start_run(nested=True):\n        mlflow.log_param(\"depth\", 3)\n    with mlflow.start_run(nested=True):\n        mlflow.log_param(\"depth\", 5)\n---------------------------------------\n\nWhich will create a new nested run for each individual\nmodel and prevent parameter key collisions within the\ntracking store.'"
          ]
        }
      ],
      "execution_count": null
    },
    {
      "metadata": {},
      "source": [
        "! mlflow ui"
      ],
      "cell_type": "code",
      "outputs": [],
      "execution_count": null
    }
  ]
}