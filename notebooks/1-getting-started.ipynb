{
  "nbformat": 4,
  "nbformat_minor": 2,
  "metadata": {},
  "cells": [
    {
      "metadata": {},
      "source": [
        "import os\n",
        "import mlflow\n",
        "from random import randint, random"
      ],
      "cell_type": "code",
      "outputs": [],
      "execution_count": null
    },
    {
      "metadata": {},
      "source": [
        "# Log a parameter (key-value pair)\n",
        "mlflow.log_param(\"param1\", randint(0, 100))\n",
        "\n",
        "# Log a metric; metrics can be updated throughout the run\n",
        "mlflow.log_metric(\"foo\", random())\n",
        "mlflow.log_metric(\"foo\", random() + 1)\n",
        "mlflow.log_metric(\"foo\", random() + 2)\n",
        "\n",
        "# Log an artifact a simple text file\n",
        "mlflow.log_artifact(\"artifacts/text_file.txt\")\n",
        "\n",
        "# Log an image\n",
        "mlflow.log_artifact(\"artifacts/kitten.jpg\")"
      ],
      "cell_type": "code",
      "outputs": [],
      "execution_count": null
    },
    {
      "metadata": {},
      "source": [
        "! mlflow ui"
      ],
      "cell_type": "code",
      "outputs": [],
      "execution_count": null
    }
  ]
}